{
 "cells": [
  {
   "cell_type": "code",
   "execution_count": null,
   "id": "89299dfd",
   "metadata": {},
   "outputs": [],
   "source": [
    "import torch\n",
    "from LSTMTrain import run_pipeline, run_inference\n",
    "from LSTMInference import get_racing_line"
   ]
  },
  {
   "cell_type": "code",
   "execution_count": null,
   "id": "b5ef29a1",
   "metadata": {},
   "outputs": [],
   "source": [
    "# All Possible Input Columns:\n",
    "# [\"left_x\",\"left_y\",\"left_z\",\"right_x\",\"right_y\",\"right_z\",\"distance\",\"heading_x\",\"heading_y\",\"heading_z\",\"curvature\",\n",
    "#  \"track_avg_width\",\"track_min_width\",\"track_max_width\",\"track_total_length\",\"track_avg_curvature\",\"track_max_curvature\"],\n",
    "\n",
    "# All Possible Output Columns:\n",
    "# [\"x\",\"y\",\"z\",\"length\",\"id\",\"speed\",\"gas\",\"brake\",'obsolete_lat_g',\"radius\",\"side_left\",'side_right',\"camber\",\"direction\",\n",
    "#  \"normal_x\",\"normal_y\",\"normal_z\",\"extra_length\",\"forward_x\",\"forward_y\",\"forward_z\",\"tag\",\"grade\"]\n",
    "\n",
    "config = {\n",
    "    # === Reproducibility ===\n",
    "    \"seed\": 42,\n",
    "\n",
    "    # === Model Input/Output ===\n",
    "    \"input_cols\": [\"left_x\",\"left_y\",\"left_z\",\"right_x\",\"right_y\",\"right_z\",\"distance\",\"curvature\",\n",
    "                   \"track_avg_width\",\"track_min_width\",\"track_avg_curvature\",\"track_max_curvature\"],\n",
    "    \"output_cols\": [\"x\", \"y\", \"z\"],\n",
    "    \"input_size\": 12,\n",
    "    \"output_size\": 3,\n",
    "\n",
    "    # === Model Architecture ===\n",
    "    # Big (Doesnt Generalize - maybe too big of a model)\n",
    "    # \"hidden_size\": 128,\n",
    "    # \"num_layers\": 4,\n",
    "    # \"dropout\": 0.1,\n",
    "    # \"seq_len\": 150,\n",
    "    # \"bidirectional\": True,\n",
    "\n",
    "    # Small\n",
    "    \"hidden_size\": 64,\n",
    "    \"num_layers\": 2,\n",
    "    \"dropout\": 0.2,\n",
    "    \"seq_len\": 150,\n",
    "    \"bidirectional\": False,\n",
    "\n",
    "    # === Training Setup ===\n",
    "    \"num_epochs\": 10,\n",
    "    \"learning_rate\": 0.001,\n",
    "    \"batch_size\": 1024, # (Big: 736, Small: 1024) Max size that fits in 8Gb of VRAM\n",
    "    \"patience\": 25,\n",
    "    \"scheduler_patience\": 15,\n",
    "\n",
    "    # === Data Splitting ===\n",
    "    \"train_split\": 0.8,\n",
    "\n",
    "    # === File Paths ===\n",
    "    \"train_data_path\": \"./data/lstm_extracted_track_data/\",                # All tracks (used for both training and validation)\n",
    "    \"test_data_path\": \"./data/lstm_extracted_track_data/lstm_testing_layouts/\", # New/unseen tracks for inference only\n",
    "    \"model_save_path\": \"./models/small_more_less_context.pt\",\n",
    "\n",
    "    # === Hardware ===\n",
    "    \"device\": \"cuda\" if torch.cuda.is_available() else \"cpu\"\n",
    "}"
   ]
  },
  {
   "cell_type": "code",
   "execution_count": null,
   "id": "92201bef",
   "metadata": {},
   "outputs": [],
   "source": [
    "run_pipeline(config)"
   ]
  },
  {
   "cell_type": "code",
   "execution_count": null,
   "id": "d1998aff",
   "metadata": {},
   "outputs": [],
   "source": [
    "# Inference for devlopment (includes acc)\n",
    "run_inference(path=config[\"model_save_path\"])"
   ]
  },
  {
   "cell_type": "code",
   "execution_count": null,
   "id": "2172d675",
   "metadata": {},
   "outputs": [],
   "source": [
    "# From Inference File (From Coords or Image)\n",
    "get_racing_line(data_dir=config[\"test_data_path\"], data_type=\"coords\", model_path=config[\"model_save_path\"])"
   ]
  },
  {
   "cell_type": "code",
   "execution_count": null,
   "id": "e0152368",
   "metadata": {},
   "outputs": [],
   "source": [
    "# From Inference File (From Coords or Image)\n",
    "get_racing_line(data_dir=config[\"test_data_path\"] + \"images\", data_type=\"image\", model_path=config[\"model_save_path\"])"
   ]
  }
 ],
 "metadata": {
  "kernelspec": {
   "display_name": ".venv",
   "language": "python",
   "name": "python3"
  },
  "language_info": {
   "codemirror_mode": {
    "name": "ipython",
    "version": 3
   },
   "file_extension": ".py",
   "mimetype": "text/x-python",
   "name": "python",
   "nbconvert_exporter": "python",
   "pygments_lexer": "ipython3",
   "version": "3.12.0"
  }
 },
 "nbformat": 4,
 "nbformat_minor": 5
}
