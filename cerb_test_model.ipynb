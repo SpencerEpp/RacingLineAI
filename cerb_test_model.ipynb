{
 "cells": [
  {
   "cell_type": "code",
   "execution_count": null,
   "id": "b8141b76",
   "metadata": {},
   "outputs": [],
   "source": [
    "import torch\n",
    "from CerbTrain import run_pipeline, run_inference \n",
    "from CerbInference import get_racing_line"
   ]
  },
  {
   "cell_type": "code",
   "execution_count": null,
   "id": "f8dafb25",
   "metadata": {},
   "outputs": [],
   "source": [
    "config = {\n",
    "    \"seed\": 42,\n",
    "    \"input_size\": 6,\n",
    "    #model params\n",
    "    \"hidden1\":128,\n",
    "    \"kern_size1\":3,\n",
    "    \"kern_size2\":3,\n",
    "    \"padding1\": 2,\n",
    "    \"padding2\": 4,\n",
    "    \"dilation1\": 2,\n",
    "    \"dilation2\": 4,\n",
    "    \"pos_head_sz\": 64,\n",
    "    \"cont_head_sz\": 64,\n",
    "    #administrative stuff\n",
    "    \"device\": \"cuda\" if torch.cuda.is_available() else \"cpu\",\n",
    "    \"input_cols\": [\"left_x\",\"left_y\",\"left_z\",\"right_x\",\"right_y\",\"right_z\"],\n",
    "    \"output_pos_cols\": [\"x\",\"y\",\"z\"],\n",
    "    \"output_cont_cols\": [\"speed\", \"gas\", \"brake\", \"side_left\", \"side_right\"],\n",
    "    \"patience\": 10,\n",
    "    \"train_data_path\": \"./data/lstm_extracted_track_data/\",\n",
    "    \"test_data_path\": \"./data/lstm_extracted_track_data/lstm_testing_layouts/\",\n",
    "    \"model_save_path\": \"./models/testing_racing_proto_cerberus.pt\",\n",
    "    \"pin_memory\": True,\n",
    "    #Training info,\n",
    "    \"num_epochs\": 100,\n",
    "    \"long_epochs\": 35,\n",
    "    \"medium_epochs\": 35,\n",
    "    \"train_split\": 0.8,\n",
    "    \"learning_rate\": 0.001,\n",
    "    \"batch_size\": 128,\n",
    "    \"long_seq_len\": 600,\n",
    "    \"med_seq_len\": 300,\n",
    "    \"short_seq_len\": 150\n",
    "}"
   ]
  },
  {
   "cell_type": "code",
   "execution_count": null,
   "id": "18ccd784",
   "metadata": {},
   "outputs": [],
   "source": [
    "run_pipeline(config) # Dataset becomes massive 40Gb or more"
   ]
  },
  {
   "cell_type": "code",
   "execution_count": null,
   "id": "e304011e",
   "metadata": {},
   "outputs": [],
   "source": [
    "# Inference for devlopment (includes acc)\n",
    "run_inference(path=config[\"model_save_path\"])"
   ]
  },
  {
   "cell_type": "code",
   "execution_count": null,
   "id": "bb6732e9",
   "metadata": {},
   "outputs": [],
   "source": [
    "# From Inference File (From Coords or Image)\n",
    "get_racing_line(data_dir=config[\"test_data_path\"], data_type=\"coords\", model_path=config[\"model_save_path\"])"
   ]
  },
  {
   "cell_type": "code",
   "execution_count": null,
   "id": "56eb5819",
   "metadata": {},
   "outputs": [],
   "source": [
    "# From Inference File (From Coords or Image)\n",
    "get_racing_line(data_dir=config[\"test_data_path\"] + \"images\", data_type=\"image\", model_path=config[\"model_save_path\"])"
   ]
  }
 ],
 "metadata": {
  "kernelspec": {
   "display_name": ".venv",
   "language": "python",
   "name": "python3"
  },
  "language_info": {
   "codemirror_mode": {
    "name": "ipython",
    "version": 3
   },
   "file_extension": ".py",
   "mimetype": "text/x-python",
   "name": "python",
   "nbconvert_exporter": "python",
   "pygments_lexer": "ipython3",
   "version": "3.12.0"
  }
 },
 "nbformat": 4,
 "nbformat_minor": 5
}
