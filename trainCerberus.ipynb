{
 "cells": [
  {
   "cell_type": "markdown",
   "metadata": {},
   "source": [
    "# LSTM Pipeline for Racing Line Prediction"
   ]
  },
  {
   "cell_type": "code",
   "execution_count": 1,
   "metadata": {},
   "outputs": [
    {
     "name": "stdout",
     "output_type": "stream",
     "text": [
      "2.6.0+cu126\n",
      "CUDA available: True\n",
      "Device: NVIDIA GeForce RTX 3070\n"
     ]
    }
   ],
   "source": [
    "# Quick check to ensure model will run on GPU\n",
    "import torch\n",
    "print(torch.__version__)\n",
    "print(\"CUDA available:\", torch.cuda.is_available())\n",
    "print(\"Device:\", torch.cuda.get_device_name(0) if torch.cuda.is_available() else \"CPU only\")"
   ]
  },
  {
   "cell_type": "code",
   "execution_count": 2,
   "metadata": {},
   "outputs": [],
   "source": [
    "# === Imports ===\n",
    "import os\n",
    "import numpy as np\n",
    "import pandas as pd\n",
    "from glob import glob\n",
    "from tqdm.notebook import tqdm\n",
    "import random\n",
    "import torch as t\n",
    "import torch.nn as nn\n",
    "import torch.nn.functional as F\n",
    "from torch.utils.data import Dataset, DataLoader, random_split\n",
    "from sklearn.preprocessing import MinMaxScaler\n",
    "import torch.serialization\n",
    "torch.serialization.add_safe_globals([MinMaxScaler])\n",
    "import matplotlib.pyplot as plt"
   ]
  },
  {
   "cell_type": "code",
   "execution_count": 3,
   "metadata": {},
   "outputs": [],
   "source": [
    "# === Configuration ===\n",
    "\n",
    "# config = {\n",
    "#     \"model_type\": \"lstm\", # Options: \"lstm\", \"cnn\", \"tcn\", \"transformer\" \n",
    "#     \"seed\": 42,\n",
    "#     \"input_size\": 6,\n",
    "#     \"output_size\": 3,\n",
    "#     \"train_split\": 0.8,\n",
    "#     \"num_epochs\": 50,\n",
    "#     \"learning_rate\": 0.001,\n",
    "#     \"batch_size\": 64,\n",
    "#     \"hidden_size\": 128,\n",
    "#     \"num_layers\": 2,\n",
    "#     \"dropout\": 0.2,\n",
    "#     \"seq_len\": 150,\n",
    "#     \"patience\": 10,\n",
    "#     \"pin_memory\": True,\n",
    "#     \"bidirectional\": False,\n",
    "#     \"device\": \"cuda\" if torch.cuda.is_available() else \"cpu\",\n",
    "#     \"train_data_path\": \"./data/extracted_track_data/\",\n",
    "#     \"test_data_path\": \"./data/testing_layouts/\",\n",
    "#     \"model_save_path\": \"./models/testing_racing_line_lstm.pt\",\n",
    "#     \"input_cols\": [\"left_x\",\"left_y\",\"left_z\",\"right_x\",\"right_y\",\"right_z\"],\n",
    "#     \"output_cols\": [\"x\",\"y\",\"z\"]\n",
    "# }\n",
    "\n",
    "config = {\n",
    "    \"seed\": 42,\n",
    "    \"input_size\": 6,\n",
    "    #model params\n",
    "    \"hidden1\":128,\n",
    "    \"kern_size1\":3,\n",
    "    \"kern_size2\":3,\n",
    "    \"padding1\": 2,\n",
    "    \"padding2\": 4,\n",
    "    \"dilation1\": 2,\n",
    "    \"dilation2\": 4,\n",
    "    \"pos_head_sz\": 64,\n",
    "    \"cont_head_sz\": 64,\n",
    "    #administrative stuff\n",
    "    \"device\":\"cuda\",\n",
    "    \"input_cols\": [\"left_x\",\"left_y\",\"left_z\",\"right_x\",\"right_y\",\"right_z\"],\n",
    "    \"output_pos_cols\": [\"x\",\"y\",\"z\"],\n",
    "    \"output_cont_cols\": [\"speed\", \"gas\", \"brake\", \"side_left\", \"side_right\"],\n",
    "    \"patience\": 10,\n",
    "    \"train_data_path\": \"./data/extracted_track_data/\",\n",
    "    \"test_data_path\": \"./data/testing_layouts/\",\n",
    "    \"model_save_path\": \"./models/testing_racing_proto_cerberus.pt\",\n",
    "    \"pin_memory\": True,\n",
    "    #Training info,\n",
    "    \"num_epochs\": 50,\n",
    "    \"train_split\": 0.8,\n",
    "    \"learning_rate\": 0.001,\n",
    "    \"batch_size\": 128,\n",
    "    \"seq_len\": 150\n",
    "}\n",
    "\n",
    "random.seed(config[\"seed\"])\n",
    "np.random.seed(config[\"seed\"])\n",
    "torch.manual_seed(config[\"seed\"])\n",
    "torch.cuda.manual_seed(config[\"seed\"])\n",
    "torch.backends.cudnn.deterministic = True\n",
    "torch.backends.cudnn.benchmark = False\n"
   ]
  },
  {
   "cell_type": "code",
   "execution_count": 4,
   "metadata": {},
   "outputs": [],
   "source": [
    "# === Dataset ===\n",
    "class RacingLineDataset(Dataset):\n",
    "    def __init__(self, train_data_path, test_data_path, seq_len):\n",
    "        self.inputs, self.pos_targets, self.cont_targets = [], [], []\n",
    "        self.seq_len = seq_len\n",
    "        self.scaler_x = MinMaxScaler()\n",
    "        self.scaler_y = MinMaxScaler()\n",
    "        self.scaler_z = MinMaxScaler()\n",
    "        all_X, all_Y, all_Z = [], [], []\n",
    "        train_files = sorted(glob(os.path.join(train_data_path, \"*.csv\")))\n",
    "        test_files = sorted(glob(os.path.join(test_data_path, \"*.csv\")))\n",
    "\n",
    "        # === First pass: Collect data for global fitting ===\n",
    "        for file in train_files:\n",
    "            df = pd.read_csv(file)\n",
    "            X = df[config[\"input_cols\"]].values\n",
    "            Y = df[config[\"output_pos_cols\"]].values\n",
    "            Z = df[config[\"output_cont_cols\"]].values\n",
    "            all_X.append(X)\n",
    "            all_Y.append(Y)\n",
    "            all_Z.append(Z)\n",
    "        for file in test_files:\n",
    "            df = pd.read_csv(file)\n",
    "            X = df[config[\"input_cols\"]].values\n",
    "            Y = df[config[\"output_pos_cols\"]].values\n",
    "            Z = df[config[\"output_cont_cols\"]].values\n",
    "            all_X.append(X)\n",
    "            all_Y.append(Y)\n",
    "            all_Z.append(Z)\n",
    "        all_X = np.vstack(all_X)\n",
    "        all_Y = np.vstack(all_Y)\n",
    "        all_Z = np.vstack(all_Z)\n",
    "        self.scaler_x.fit(all_X)\n",
    "        self.scaler_y.fit(all_Y)\n",
    "        self.scaler_z.fit(all_Z)\n",
    "\n",
    "        # === Second pass: Normalize and extract sequences ===\n",
    "        for file in train_files:\n",
    "            df = pd.read_csv(file)\n",
    "            X = self.scaler_x.transform(df[config[\"input_cols\"]].values)\n",
    "            Y = self.scaler_y.transform(df[config[\"output_pos_cols\"]].values)\n",
    "            Z = self.scaler_z.transform(df[config[\"output_cont_cols\"]].values)\n",
    "\n",
    "            for i in range((len(X) - seq_len) + 1):\n",
    "                self.inputs.append(X[i:i+seq_len])\n",
    "                self.pos_targets.append(Y[i+seq_len-1])\n",
    "                self.cont_targets.append(Z[i+seq_len-1])\n",
    "\n",
    "        # Convert to tensors\n",
    "        self.inputs = torch.tensor(np.array(self.inputs), dtype=torch.float32)\n",
    "        self.pos_targets = torch.tensor(np.array(self.pos_targets), dtype=torch.float32)\n",
    "        self.cont_targets = torch.tensor(np.array(self.cont_targets), dtype=torch.float32)\n",
    "\n",
    "    def __len__(self):\n",
    "        return len(self.inputs)\n",
    "\n",
    "    def __getitem__(self, idx):\n",
    "        return self.inputs[idx].permute(1,0), self.pos_targets[idx], self.cont_targets[idx]\n",
    "    "
   ]
  },
  {
   "cell_type": "code",
   "execution_count": 5,
   "metadata": {},
   "outputs": [],
   "source": [
    "class Cerberus (torch.nn.Module):\n",
    "    def __init__(self, config):\n",
    "        super().__init__()\n",
    "\n",
    "        self.encoder = torch.nn.Sequential(\n",
    "            torch.nn.Conv1d(config[\"input_size\"], config[\"hidden1\"], config[\"kern_size1\"], config[\"padding1\"], config[\"dilation1\"]),\n",
    "            torch.nn.ReLU(),\n",
    "            torch.nn.Conv1d(config[\"hidden1\"], config[\"hidden1\"], config[\"kern_size1\"], config[\"padding2\"], config[\"dilation2\"]),\n",
    "        )\n",
    "\n",
    "        #x, y, z\n",
    "        self.position_head = t.nn.Sequential(\n",
    "            torch.nn.Linear(config[\"hidden1\"], config[\"pos_head_sz\"]),\n",
    "            torch.nn.ReLU(),\n",
    "            torch.nn.Linear(config[\"pos_head_sz\"], 3)\n",
    "        )\n",
    "\n",
    "        #speed, gas, brake, side-left, side-right\n",
    "        self.control_head = t.nn.Sequential(\n",
    "            torch.nn.Linear(config[\"hidden1\"] + 3, config[\"cont_head_sz\"]),\n",
    "            torch.nn.ReLU(),\n",
    "            torch.nn.Linear(config[\"cont_head_sz\"], 5)\n",
    "        )\n",
    "\n",
    "    def forward(self, x):\n",
    "        encoded = self.encoder(x)\n",
    "        encoded = encoded[:, :, -1]\n",
    "\n",
    "        position = self.position_head(encoded)\n",
    "        control_in = t.cat([encoded, position], dim=1)\n",
    "        control = self.control_head(control_in)\n",
    "\n",
    "        \n",
    "        return position, control"
   ]
  },
  {
   "cell_type": "code",
   "execution_count": 6,
   "metadata": {},
   "outputs": [],
   "source": [
    "# === Evaluation/Loss Functions ===\n",
    "class PositionLoss(torch.nn.Module):\n",
    "    def __init__(self, weight=1.0):\n",
    "        super(PositionLoss, self).__init__()\n",
    "        self.mse_loss = torch.nn.MSELoss()\n",
    "\n",
    "    def forward(self, predicted, target):\n",
    "        loss = self.mse_loss(predicted, target)\n",
    "        return loss\n",
    "\n",
    "#we can add penalties to encourage smoother and more realistic driving here\n",
    "class ControlLoss(t.nn.Module):\n",
    "    def __init__(self, weight=1.0):\n",
    "        super(ControlLoss, self).__init__()\n",
    "        self.mse_loss = torch.nn.MSELoss()\n",
    "        \n",
    "    def forward(self, predicted, target):\n",
    "        loss = self.mse_loss(predicted, target)\n",
    "        return loss\n",
    "\n",
    "def evaluate_model(model, dataloader, pos_crit, con_crit, config):\n",
    "    model.eval()\n",
    "    total_loss = 0\n",
    "    with torch.no_grad():\n",
    "        for X_batch, Y_batch, Z_batch in dataloader:\n",
    "            X_batch, Y_batch, Z_batch = X_batch.to(config[\"device\"]), Y_batch.to(config[\"device\"]), Z_batch.to(config[\"device\"])\n",
    "            pos, cont = model(X_batch)\n",
    "            pos_loss = pos_crit(pos, Y_batch)\n",
    "            con_loss = con_crit(cont, Z_batch)\n",
    "            \n",
    "            loss = pos_loss + 0.5 * con_loss\n",
    "            total_loss += loss.item()\n",
    "    return total_loss / len(dataloader)\n"
   ]
  },
  {
   "cell_type": "code",
   "execution_count": 7,
   "metadata": {},
   "outputs": [],
   "source": [
    "# === Save and Load Model (with architecture) ===\n",
    "def save_model(model, config, scaler_x, scaler_y, scaler_z):\n",
    "    torch.save({\n",
    "        \"model_state_dict\": model.state_dict(),\n",
    "        \"config\": config,\n",
    "        \"scaler_x\": scaler_x,\n",
    "        \"scaler_y\": scaler_y,\n",
    "        \"scaler_z\": scaler_z,\n",
    "    }, config[\"model_save_path\"])\n",
    "\n",
    "# def load_model(path):\n",
    "#     checkpoint = torch.load(path, map_location=config[\"device\"], weights_only=False)\n",
    "#     cfg = checkpoint[\"config\"]\n",
    "#     model = RacingLineLSTMWithAttention(cfg[\"input_size\"], cfg[\"hidden_size\"],\n",
    "#                                         cfg[\"output_size\"], cfg[\"num_layers\"],\n",
    "#                                         cfg[\"dropout\"], cfg[\"bidirectional\"])\n",
    "#     model.load_state_dict(checkpoint[\"model_state_dict\"])\n",
    "#     model.to(cfg[\"device\"])\n",
    "#     return model, checkpoint[\"scaler_x\"], checkpoint[\"scaler_y\"]\n",
    "\n",
    "def load_model(path):\n",
    "    checkpoint = torch.load(path, map_location=config[\"device\"], weights_only=False)\n",
    "    cfg = checkpoint[\"config\"]\n",
    "    #model = get_model(cfg)\n",
    "    model = Cerberus(cfg)\n",
    "    model.load_state_dict(checkpoint[\"model_state_dict\"])\n",
    "    model.to(cfg[\"device\"])\n",
    "    scaler_x = checkpoint[\"scaler_x\"]\n",
    "    scaler_y = checkpoint[\"scaler_y\"]\n",
    "    scaler_z = checkpoint[\"scaler_z\"]\n",
    "    return model, scaler_x, scaler_y, scaler_z\n"
   ]
  },
  {
   "cell_type": "code",
   "execution_count": 8,
   "metadata": {},
   "outputs": [],
   "source": [
    "# === Training Function (with tqdm and validation) ===\n",
    "def train_model(model, train_loader, val_loader, config, scaler_x, scaler_y, scaler_z):\n",
    "    optimizer = torch.optim.Adam(model.parameters(), lr=config[\"learning_rate\"])\n",
    "    # = hybrid_loss #nn.MSELoss()\n",
    "\n",
    "    pos_crit = PositionLoss()\n",
    "    con_crit = ControlLoss(weight=0.5)\n",
    "    \n",
    "    scheduler = torch.optim.lr_scheduler.ReduceLROnPlateau(optimizer, mode='min', factor=0.5, patience=5)\n",
    "    best_val_loss = float(\"inf\")\n",
    "    train_losses = []\n",
    "    val_losses = []\n",
    "    early_stopping_patience = config[\"patience\"]\n",
    "    epochs_without_improvement = 0\n",
    "    best_epoch = 0\n",
    "\n",
    "    obar = tqdm(range(config[\"num_epochs\"]), desc=\"Epochs\")\n",
    "    for epoch in obar:\n",
    "        model.train()\n",
    "        running_loss = 0.0\n",
    "        pbar = tqdm(train_loader, desc=f\"Epoch {epoch+1}/{config['num_epochs']}\", leave=False)\n",
    "        for X_batch, Y_batch, Z_batch in pbar:\n",
    "            X_batch, Y_batch, Z_batch = X_batch.to(config[\"device\"]), Y_batch.to(config[\"device\"]), Z_batch.to(config[\"device\"])\n",
    "\n",
    "            \n",
    "            optimizer.zero_grad()\n",
    "            p_pos, p_cont = model(X_batch)\n",
    "            pos_loss, con_loss = pos_crit(p_pos, Y_batch), con_crit(p_cont, Z_batch)\n",
    "            loss = pos_loss + 0.5 * con_loss\n",
    "            loss.backward()\n",
    "            torch.nn.utils.clip_grad_norm_(model.parameters(), max_norm=1.0)\n",
    "            optimizer.step()\n",
    "            running_loss += loss.item()\n",
    "            pbar.set_postfix({\"Loss\": running_loss / (pbar.n + 1)})\n",
    "\n",
    "        train_losses.append(running_loss / len(train_loader))\n",
    "        \n",
    "        val_loss = evaluate_model(model, val_loader, pos_crit, con_crit, config)\n",
    "        val_losses.append(val_loss)\n",
    "        scheduler.step(val_loss)\n",
    "\n",
    "        if val_loss < best_val_loss:\n",
    "            best_val_loss = val_loss\n",
    "            save_model(model, config, scaler_x, scaler_y, scaler_z)\n",
    "            best_epoch = epoch+1\n",
    "            epochs_without_improvement = 0\n",
    "        else:\n",
    "            epochs_without_improvement += 1\n",
    "\n",
    "        obar.set_postfix({\"Train Loss\": running_loss/len(train_loader), \"Val Loss\": val_loss, \"Lr\": scheduler.get_last_lr()[0], \"best_epoch\": best_epoch})\n",
    "\n",
    "        if epochs_without_improvement >= early_stopping_patience:\n",
    "            print(f\"Early stopping triggered after {epoch+1} epochs.\")\n",
    "            break\n",
    "\n",
    "    return train_losses, val_losses\n"
   ]
  },
  {
   "cell_type": "code",
   "execution_count": 9,
   "metadata": {},
   "outputs": [],
   "source": [
    "# === Full Pipeline ===\n",
    "def run_pipeline(train_data_path=config[\"train_data_path\"], test_data_path=config[\"test_data_path\"]):\n",
    "    print(\"Preparing dataset...\")\n",
    "    full_dataset = RacingLineDataset(\n",
    "        train_data_path,\n",
    "        test_data_path,\n",
    "        config[\"seq_len\"],\n",
    "    )\n",
    "    scaler_x = full_dataset.scaler_x\n",
    "    scaler_y = full_dataset.scaler_y\n",
    "    scaler_z = full_dataset.scaler_z\n",
    "    print(\"Total sequences loaded:\", len(full_dataset))\n",
    "\n",
    "    # === 80/20 train/val split with reproducibility ===\n",
    "    train_len = int(len(full_dataset) * config[\"train_split\"])\n",
    "    val_len = len(full_dataset) - train_len\n",
    "    train_ds, val_ds = random_split(\n",
    "        full_dataset,\n",
    "        [train_len, val_len],\n",
    "        generator=torch.Generator().manual_seed(config[\"seed\"])\n",
    "    )\n",
    "\n",
    "    train_loader = DataLoader(train_ds, batch_size=config[\"batch_size\"], shuffle=False, pin_memory=config[\"pin_memory\"])\n",
    "    val_loader = DataLoader(val_ds, batch_size=config[\"batch_size\"], shuffle=False, pin_memory=config[\"pin_memory\"])\n",
    "\n",
    "    print(f\"Initializing model: Cerberus\")\n",
    "    model = Cerberus(config=config).to(config[\"device\"])\n",
    "\n",
    "    print(\"Training started...\")\n",
    "    train_losses, val_losses = train_model(model, train_loader, val_loader, config, scaler_x, scaler_y, scaler_z)\n",
    "    print(f\"Training complete. Model saved to {config['model_save_path']}\")\n",
    "\n",
    "    # === Plot learning curve ===\n",
    "    plt.figure(figsize=(10, 5))\n",
    "    plt.plot(train_losses, label=\"Train Loss\")\n",
    "    plt.plot(val_losses, label=\"Validation Loss\")\n",
    "    plt.xlabel(\"Epoch\")\n",
    "    plt.ylabel(\"Loss\")\n",
    "    plt.title(\"Learning Curve\")\n",
    "    plt.legend()\n",
    "    plt.grid(True)\n",
    "    plt.show()\n",
    "    "
   ]
  },
  {
   "cell_type": "code",
   "execution_count": 10,
   "metadata": {},
   "outputs": [
    {
     "name": "stdout",
     "output_type": "stream",
     "text": [
      "Preparing dataset...\n",
      "Total sequences loaded: 130045\n",
      "Initializing model: Cerberus\n",
      "Training started...\n"
     ]
    },
    {
     "data": {
      "application/vnd.jupyter.widget-view+json": {
       "model_id": "7315570feb5347b48774aa111a382baa",
       "version_major": 2,
       "version_minor": 0
      },
      "text/plain": [
       "Epochs:   0%|          | 0/50 [00:00<?, ?it/s]"
      ]
     },
     "metadata": {},
     "output_type": "display_data"
    },
    {
     "data": {
      "application/vnd.jupyter.widget-view+json": {
       "model_id": "e1e8e8f01c7b499ea120cd81e919b836",
       "version_major": 2,
       "version_minor": 0
      },
      "text/plain": [
       "Epoch 1/50:   0%|          | 0/813 [00:00<?, ?it/s]"
      ]
     },
     "metadata": {},
     "output_type": "display_data"
    },
    {
     "data": {
      "application/vnd.jupyter.widget-view+json": {
       "model_id": "31497bf013464808a7e5a1ff9f225e39",
       "version_major": 2,
       "version_minor": 0
      },
      "text/plain": [
       "Epoch 2/50:   0%|          | 0/813 [00:00<?, ?it/s]"
      ]
     },
     "metadata": {},
     "output_type": "display_data"
    },
    {
     "data": {
      "application/vnd.jupyter.widget-view+json": {
       "model_id": "842b41b054c9476b9a011c73fe20d70d",
       "version_major": 2,
       "version_minor": 0
      },
      "text/plain": [
       "Epoch 3/50:   0%|          | 0/813 [00:00<?, ?it/s]"
      ]
     },
     "metadata": {},
     "output_type": "display_data"
    },
    {
     "data": {
      "application/vnd.jupyter.widget-view+json": {
       "model_id": "115eb93caca04d47a1e10b8c381859bf",
       "version_major": 2,
       "version_minor": 0
      },
      "text/plain": [
       "Epoch 4/50:   0%|          | 0/813 [00:00<?, ?it/s]"
      ]
     },
     "metadata": {},
     "output_type": "display_data"
    },
    {
     "data": {
      "application/vnd.jupyter.widget-view+json": {
       "model_id": "4a66c929cf7a4c10b9894f7795af3722",
       "version_major": 2,
       "version_minor": 0
      },
      "text/plain": [
       "Epoch 5/50:   0%|          | 0/813 [00:00<?, ?it/s]"
      ]
     },
     "metadata": {},
     "output_type": "display_data"
    },
    {
     "data": {
      "application/vnd.jupyter.widget-view+json": {
       "model_id": "23beb5ded44841e4aa5a44e046eee676",
       "version_major": 2,
       "version_minor": 0
      },
      "text/plain": [
       "Epoch 6/50:   0%|          | 0/813 [00:00<?, ?it/s]"
      ]
     },
     "metadata": {},
     "output_type": "display_data"
    },
    {
     "data": {
      "application/vnd.jupyter.widget-view+json": {
       "model_id": "62c7ca9eb4914769a074a037913958e7",
       "version_major": 2,
       "version_minor": 0
      },
      "text/plain": [
       "Epoch 7/50:   0%|          | 0/813 [00:00<?, ?it/s]"
      ]
     },
     "metadata": {},
     "output_type": "display_data"
    },
    {
     "data": {
      "application/vnd.jupyter.widget-view+json": {
       "model_id": "26b52513f7fc47158b2492b717abc652",
       "version_major": 2,
       "version_minor": 0
      },
      "text/plain": [
       "Epoch 8/50:   0%|          | 0/813 [00:00<?, ?it/s]"
      ]
     },
     "metadata": {},
     "output_type": "display_data"
    },
    {
     "data": {
      "application/vnd.jupyter.widget-view+json": {
       "model_id": "fada4e8fffa04d19b3c826d84e26159b",
       "version_major": 2,
       "version_minor": 0
      },
      "text/plain": [
       "Epoch 9/50:   0%|          | 0/813 [00:00<?, ?it/s]"
      ]
     },
     "metadata": {},
     "output_type": "display_data"
    },
    {
     "data": {
      "application/vnd.jupyter.widget-view+json": {
       "model_id": "9d26766a61c84b85a2df9ab57319c527",
       "version_major": 2,
       "version_minor": 0
      },
      "text/plain": [
       "Epoch 10/50:   0%|          | 0/813 [00:00<?, ?it/s]"
      ]
     },
     "metadata": {},
     "output_type": "display_data"
    },
    {
     "data": {
      "application/vnd.jupyter.widget-view+json": {
       "model_id": "9a409d767bc54c19bd603be68243b221",
       "version_major": 2,
       "version_minor": 0
      },
      "text/plain": [
       "Epoch 11/50:   0%|          | 0/813 [00:00<?, ?it/s]"
      ]
     },
     "metadata": {},
     "output_type": "display_data"
    },
    {
     "data": {
      "application/vnd.jupyter.widget-view+json": {
       "model_id": "adc128ec0edb439781b8c88e55d2f439",
       "version_major": 2,
       "version_minor": 0
      },
      "text/plain": [
       "Epoch 12/50:   0%|          | 0/813 [00:00<?, ?it/s]"
      ]
     },
     "metadata": {},
     "output_type": "display_data"
    },
    {
     "data": {
      "application/vnd.jupyter.widget-view+json": {
       "model_id": "c1adf1ffab0a4afb9242734d635c2c5f",
       "version_major": 2,
       "version_minor": 0
      },
      "text/plain": [
       "Epoch 13/50:   0%|          | 0/813 [00:00<?, ?it/s]"
      ]
     },
     "metadata": {},
     "output_type": "display_data"
    },
    {
     "data": {
      "application/vnd.jupyter.widget-view+json": {
       "model_id": "ba260bd96d124184a37982befcf15d79",
       "version_major": 2,
       "version_minor": 0
      },
      "text/plain": [
       "Epoch 14/50:   0%|          | 0/813 [00:00<?, ?it/s]"
      ]
     },
     "metadata": {},
     "output_type": "display_data"
    },
    {
     "data": {
      "application/vnd.jupyter.widget-view+json": {
       "model_id": "385a1a2f0fde40d2af16300616a3453f",
       "version_major": 2,
       "version_minor": 0
      },
      "text/plain": [
       "Epoch 15/50:   0%|          | 0/813 [00:00<?, ?it/s]"
      ]
     },
     "metadata": {},
     "output_type": "display_data"
    },
    {
     "data": {
      "application/vnd.jupyter.widget-view+json": {
       "model_id": "0abe6281dc124a07923b1164d80a1ffa",
       "version_major": 2,
       "version_minor": 0
      },
      "text/plain": [
       "Epoch 16/50:   0%|          | 0/813 [00:00<?, ?it/s]"
      ]
     },
     "metadata": {},
     "output_type": "display_data"
    },
    {
     "data": {
      "application/vnd.jupyter.widget-view+json": {
       "model_id": "e5a52811d87942c695afffd185e922f2",
       "version_major": 2,
       "version_minor": 0
      },
      "text/plain": [
       "Epoch 17/50:   0%|          | 0/813 [00:00<?, ?it/s]"
      ]
     },
     "metadata": {},
     "output_type": "display_data"
    },
    {
     "data": {
      "application/vnd.jupyter.widget-view+json": {
       "model_id": "8116536301a34a828dfef44a15e71b57",
       "version_major": 2,
       "version_minor": 0
      },
      "text/plain": [
       "Epoch 18/50:   0%|          | 0/813 [00:00<?, ?it/s]"
      ]
     },
     "metadata": {},
     "output_type": "display_data"
    },
    {
     "data": {
      "application/vnd.jupyter.widget-view+json": {
       "model_id": "6335902704b44becbf3b4897432da153",
       "version_major": 2,
       "version_minor": 0
      },
      "text/plain": [
       "Epoch 19/50:   0%|          | 0/813 [00:00<?, ?it/s]"
      ]
     },
     "metadata": {},
     "output_type": "display_data"
    },
    {
     "data": {
      "application/vnd.jupyter.widget-view+json": {
       "model_id": "610bb771f3814026a3b68e4feb866ab4",
       "version_major": 2,
       "version_minor": 0
      },
      "text/plain": [
       "Epoch 20/50:   0%|          | 0/813 [00:00<?, ?it/s]"
      ]
     },
     "metadata": {},
     "output_type": "display_data"
    },
    {
     "data": {
      "application/vnd.jupyter.widget-view+json": {
       "model_id": "50bb1dfd3c7a4d41a4bb83c33f722a42",
       "version_major": 2,
       "version_minor": 0
      },
      "text/plain": [
       "Epoch 21/50:   0%|          | 0/813 [00:00<?, ?it/s]"
      ]
     },
     "metadata": {},
     "output_type": "display_data"
    },
    {
     "data": {
      "application/vnd.jupyter.widget-view+json": {
       "model_id": "fa6a28c936794247828d8c0468079f0c",
       "version_major": 2,
       "version_minor": 0
      },
      "text/plain": [
       "Epoch 22/50:   0%|          | 0/813 [00:00<?, ?it/s]"
      ]
     },
     "metadata": {},
     "output_type": "display_data"
    },
    {
     "data": {
      "application/vnd.jupyter.widget-view+json": {
       "model_id": "850ae1f4950e48e7ab98af12307e921d",
       "version_major": 2,
       "version_minor": 0
      },
      "text/plain": [
       "Epoch 23/50:   0%|          | 0/813 [00:00<?, ?it/s]"
      ]
     },
     "metadata": {},
     "output_type": "display_data"
    },
    {
     "data": {
      "application/vnd.jupyter.widget-view+json": {
       "model_id": "4d8986fdbbd84c789bd77ae94a4cdef0",
       "version_major": 2,
       "version_minor": 0
      },
      "text/plain": [
       "Epoch 24/50:   0%|          | 0/813 [00:00<?, ?it/s]"
      ]
     },
     "metadata": {},
     "output_type": "display_data"
    },
    {
     "data": {
      "application/vnd.jupyter.widget-view+json": {
       "model_id": "b8c96a76a87847d8809ac4a51eef227f",
       "version_major": 2,
       "version_minor": 0
      },
      "text/plain": [
       "Epoch 25/50:   0%|          | 0/813 [00:00<?, ?it/s]"
      ]
     },
     "metadata": {},
     "output_type": "display_data"
    },
    {
     "data": {
      "application/vnd.jupyter.widget-view+json": {
       "model_id": "0f37d9c1698d4e739df1d66bf6e32c52",
       "version_major": 2,
       "version_minor": 0
      },
      "text/plain": [
       "Epoch 26/50:   0%|          | 0/813 [00:00<?, ?it/s]"
      ]
     },
     "metadata": {},
     "output_type": "display_data"
    },
    {
     "data": {
      "application/vnd.jupyter.widget-view+json": {
       "model_id": "a53c4cc5b23b40849b85a3b96a8f9e7c",
       "version_major": 2,
       "version_minor": 0
      },
      "text/plain": [
       "Epoch 27/50:   0%|          | 0/813 [00:00<?, ?it/s]"
      ]
     },
     "metadata": {},
     "output_type": "display_data"
    },
    {
     "data": {
      "application/vnd.jupyter.widget-view+json": {
       "model_id": "34da5b105ec54100bc579b9ed705a387",
       "version_major": 2,
       "version_minor": 0
      },
      "text/plain": [
       "Epoch 28/50:   0%|          | 0/813 [00:00<?, ?it/s]"
      ]
     },
     "metadata": {},
     "output_type": "display_data"
    },
    {
     "data": {
      "application/vnd.jupyter.widget-view+json": {
       "model_id": "4ea737d596f14ef3aad461453d010f08",
       "version_major": 2,
       "version_minor": 0
      },
      "text/plain": [
       "Epoch 29/50:   0%|          | 0/813 [00:00<?, ?it/s]"
      ]
     },
     "metadata": {},
     "output_type": "display_data"
    },
    {
     "data": {
      "application/vnd.jupyter.widget-view+json": {
       "model_id": "5e47399b472b4a5191c799aa4e1ee612",
       "version_major": 2,
       "version_minor": 0
      },
      "text/plain": [
       "Epoch 30/50:   0%|          | 0/813 [00:00<?, ?it/s]"
      ]
     },
     "metadata": {},
     "output_type": "display_data"
    },
    {
     "data": {
      "application/vnd.jupyter.widget-view+json": {
       "model_id": "c64066aa7f4f41f5b3ff9c714bc5c44e",
       "version_major": 2,
       "version_minor": 0
      },
      "text/plain": [
       "Epoch 31/50:   0%|          | 0/813 [00:00<?, ?it/s]"
      ]
     },
     "metadata": {},
     "output_type": "display_data"
    },
    {
     "data": {
      "application/vnd.jupyter.widget-view+json": {
       "model_id": "9fbb901c5ecf4a358aff9e1d2d952a94",
       "version_major": 2,
       "version_minor": 0
      },
      "text/plain": [
       "Epoch 32/50:   0%|          | 0/813 [00:00<?, ?it/s]"
      ]
     },
     "metadata": {},
     "output_type": "display_data"
    },
    {
     "data": {
      "application/vnd.jupyter.widget-view+json": {
       "model_id": "6f0f78e7ab48430a8d90b4014620a9cf",
       "version_major": 2,
       "version_minor": 0
      },
      "text/plain": [
       "Epoch 33/50:   0%|          | 0/813 [00:00<?, ?it/s]"
      ]
     },
     "metadata": {},
     "output_type": "display_data"
    },
    {
     "data": {
      "application/vnd.jupyter.widget-view+json": {
       "model_id": "712800d4ba83484c88d913c0f78541ae",
       "version_major": 2,
       "version_minor": 0
      },
      "text/plain": [
       "Epoch 34/50:   0%|          | 0/813 [00:00<?, ?it/s]"
      ]
     },
     "metadata": {},
     "output_type": "display_data"
    },
    {
     "data": {
      "application/vnd.jupyter.widget-view+json": {
       "model_id": "c42519bcdc914ab38a89d183334d8a98",
       "version_major": 2,
       "version_minor": 0
      },
      "text/plain": [
       "Epoch 35/50:   0%|          | 0/813 [00:00<?, ?it/s]"
      ]
     },
     "metadata": {},
     "output_type": "display_data"
    },
    {
     "data": {
      "application/vnd.jupyter.widget-view+json": {
       "model_id": "e69af31354014ca58a272704b8f408c3",
       "version_major": 2,
       "version_minor": 0
      },
      "text/plain": [
       "Epoch 36/50:   0%|          | 0/813 [00:00<?, ?it/s]"
      ]
     },
     "metadata": {},
     "output_type": "display_data"
    },
    {
     "data": {
      "application/vnd.jupyter.widget-view+json": {
       "model_id": "23185656e98f4f969045c76f7666f226",
       "version_major": 2,
       "version_minor": 0
      },
      "text/plain": [
       "Epoch 37/50:   0%|          | 0/813 [00:00<?, ?it/s]"
      ]
     },
     "metadata": {},
     "output_type": "display_data"
    },
    {
     "data": {
      "application/vnd.jupyter.widget-view+json": {
       "model_id": "7266f85fb2d34f18826d3974c9dd2c81",
       "version_major": 2,
       "version_minor": 0
      },
      "text/plain": [
       "Epoch 38/50:   0%|          | 0/813 [00:00<?, ?it/s]"
      ]
     },
     "metadata": {},
     "output_type": "display_data"
    },
    {
     "data": {
      "application/vnd.jupyter.widget-view+json": {
       "model_id": "c280a167b7584e0d9a4ced3c509678d6",
       "version_major": 2,
       "version_minor": 0
      },
      "text/plain": [
       "Epoch 39/50:   0%|          | 0/813 [00:00<?, ?it/s]"
      ]
     },
     "metadata": {},
     "output_type": "display_data"
    },
    {
     "data": {
      "application/vnd.jupyter.widget-view+json": {
       "model_id": "7e2d4092af6d43b3b2f70ed628bd910c",
       "version_major": 2,
       "version_minor": 0
      },
      "text/plain": [
       "Epoch 40/50:   0%|          | 0/813 [00:00<?, ?it/s]"
      ]
     },
     "metadata": {},
     "output_type": "display_data"
    },
    {
     "data": {
      "application/vnd.jupyter.widget-view+json": {
       "model_id": "f580b5e37e434f29aeb0f629da25c82b",
       "version_major": 2,
       "version_minor": 0
      },
      "text/plain": [
       "Epoch 41/50:   0%|          | 0/813 [00:00<?, ?it/s]"
      ]
     },
     "metadata": {},
     "output_type": "display_data"
    },
    {
     "data": {
      "application/vnd.jupyter.widget-view+json": {
       "model_id": "24d077b9195c4c09bc086e80574aac1c",
       "version_major": 2,
       "version_minor": 0
      },
      "text/plain": [
       "Epoch 42/50:   0%|          | 0/813 [00:00<?, ?it/s]"
      ]
     },
     "metadata": {},
     "output_type": "display_data"
    },
    {
     "data": {
      "application/vnd.jupyter.widget-view+json": {
       "model_id": "8198805f43b3475d9f5522b79fbb7cac",
       "version_major": 2,
       "version_minor": 0
      },
      "text/plain": [
       "Epoch 43/50:   0%|          | 0/813 [00:00<?, ?it/s]"
      ]
     },
     "metadata": {},
     "output_type": "display_data"
    },
    {
     "data": {
      "application/vnd.jupyter.widget-view+json": {
       "model_id": "3bcec12555294682af2f7f556742db47",
       "version_major": 2,
       "version_minor": 0
      },
      "text/plain": [
       "Epoch 44/50:   0%|          | 0/813 [00:00<?, ?it/s]"
      ]
     },
     "metadata": {},
     "output_type": "display_data"
    },
    {
     "data": {
      "application/vnd.jupyter.widget-view+json": {
       "model_id": "8e2dc80b01294270a444e84bf5192264",
       "version_major": 2,
       "version_minor": 0
      },
      "text/plain": [
       "Epoch 45/50:   0%|          | 0/813 [00:00<?, ?it/s]"
      ]
     },
     "metadata": {},
     "output_type": "display_data"
    },
    {
     "data": {
      "application/vnd.jupyter.widget-view+json": {
       "model_id": "5be2b582d1e1474aa2a49bfe03503fd4",
       "version_major": 2,
       "version_minor": 0
      },
      "text/plain": [
       "Epoch 46/50:   0%|          | 0/813 [00:00<?, ?it/s]"
      ]
     },
     "metadata": {},
     "output_type": "display_data"
    },
    {
     "data": {
      "application/vnd.jupyter.widget-view+json": {
       "model_id": "d03968a43b5c44a38ea45ae3f93bf5cc",
       "version_major": 2,
       "version_minor": 0
      },
      "text/plain": [
       "Epoch 47/50:   0%|          | 0/813 [00:00<?, ?it/s]"
      ]
     },
     "metadata": {},
     "output_type": "display_data"
    },
    {
     "data": {
      "application/vnd.jupyter.widget-view+json": {
       "model_id": "33712d8454a0408b96d970f4e61ef181",
       "version_major": 2,
       "version_minor": 0
      },
      "text/plain": [
       "Epoch 48/50:   0%|          | 0/813 [00:00<?, ?it/s]"
      ]
     },
     "metadata": {},
     "output_type": "display_data"
    },
    {
     "data": {
      "application/vnd.jupyter.widget-view+json": {
       "model_id": "5444754a9dea4d02bb98d13fbf25f9ff",
       "version_major": 2,
       "version_minor": 0
      },
      "text/plain": [
       "Epoch 49/50:   0%|          | 0/813 [00:00<?, ?it/s]"
      ]
     },
     "metadata": {},
     "output_type": "display_data"
    },
    {
     "data": {
      "application/vnd.jupyter.widget-view+json": {
       "model_id": "1a8a280c1088403e888ce02437a7175c",
       "version_major": 2,
       "version_minor": 0
      },
      "text/plain": [
       "Epoch 50/50:   0%|          | 0/813 [00:00<?, ?it/s]"
      ]
     },
     "metadata": {},
     "output_type": "display_data"
    },
    {
     "name": "stdout",
     "output_type": "stream",
     "text": [
      "Early stopping triggered after 50 epochs.\n",
      "Training complete. Model saved to ./models/testing_racing_proto_cerberus.pt\n"
     ]
    },
    {
     "data": {
      "image/png": "[encoded data removed]",
      "text/plain": [
       "<Figure size 1000x500 with 1 Axes>"
      ]
     },
     "metadata": {},
     "output_type": "display_data"
    }
   ],
   "source": [
    "# === Train Model ===\n",
    "run_pipeline()"
   ]
  },
  {
   "cell_type": "code",
   "execution_count": 17,
   "metadata": {},
   "outputs": [
    {
     "name": "stdout",
     "output_type": "stream",
     "text": [
      "Loading model and scalers...\n",
      "Loading unseen layouts from: ./data/testing_layouts\n",
      "Found 1 layout files.\n",
      "\n",
      "[1/1] Predicting layout: ks_barcelona_layout_gp_Processed_Data.csv\n"
     ]
    },
    {
     "data": {
      "application/vnd.jupyter.widget-view+json": {
       "model_id": "859d3fc8eb65432ba05599e0380be197",
       "version_major": 2,
       "version_minor": 0
      },
      "text/plain": [
       "[1/1]:   0%|          | 0/2928 [00:00<?, ?it/s]"
      ]
     },
     "metadata": {},
     "output_type": "display_data"
    },
    {
     "data": {
      "image/png": "[encoded data removed]",
      "text/plain": [
       "<Figure size 1200x600 with 1 Axes>"
      ]
     },
     "metadata": {},
     "output_type": "display_data"
    },
    {
     "name": "stdout",
     "output_type": "stream",
     "text": [
      "\n",
      "Per-Feature Accuracy (%):\n",
      "------------------------------------------------------------\n",
      "               x:  74.76% (layout-based)     0.00% (train-scale)\n",
      "               y:   0.00% (layout-based)     0.00% (train-scale)\n",
      "               z:  72.30% (layout-based)     0.00% (train-scale)\n",
      "Mean X/Z spatial error: 426.49m, Max: 769.15m\n",
      "\n"
     ]
    }
   ],
   "source": [
    "# === Inference on Testing Track Layouts (from coordinates only, doesnt take image for inference) ===\n",
    "def print_feature_accuracy(preds, trues, scaler_y, feature_names):\n",
    "    preds = np.array(preds)\n",
    "    trues = np.array(trues)\n",
    "\n",
    "    print(f\"\\nPer-Feature Accuracy (%):\")\n",
    "    print(\"-\" * 60)\n",
    "    for i, name in enumerate(feature_names):\n",
    "        range_train = scaler_y.scale_[i]\n",
    "        range_test = trues[:, i].max() - trues[:, i].min()\n",
    "\n",
    "        if range_test == 0:\n",
    "            print(f\"{name:>16}: N/A (zero test range)\")\n",
    "            continue\n",
    "\n",
    "        mean_error = np.mean(np.abs(preds[:, i] - trues[:, i]))\n",
    "        acc_train = (1 - (mean_error / range_train)) * 100\n",
    "        acc_test = (1 - (mean_error / range_test)) * 100\n",
    "\n",
    "        acc_train = max(0.0, min(100.0, acc_train))\n",
    "        acc_test = max(0.0, min(100.0, acc_test))\n",
    "\n",
    "        print(f\"{name:>16}: {acc_test:6.2f}% (layout-based)   {acc_train:6.2f}% (train-scale)\")\n",
    "\n",
    "# === Circular Tracks ===\n",
    "def run_inference(data_folder, model_path):\n",
    "    print(\"Loading model and scalers...\")\n",
    "    model, scaler_x, scaler_y, _ = load_model(model_path)\n",
    "    model.eval()\n",
    "\n",
    "    print(\"Loading unseen layouts from:\", data_folder)\n",
    "    layout_files = sorted(glob(os.path.join(data_folder, \"*.csv\")))\n",
    "    total_layouts = len(layout_files)\n",
    "    print(f\"Found {total_layouts} layout files.\\n\")\n",
    "\n",
    "    for layout_index, layout_path in enumerate(layout_files):\n",
    "        layout_name = os.path.basename(layout_path)\n",
    "        print(f\"[{layout_index + 1}/{total_layouts}] Predicting layout: {layout_name}\")\n",
    "\n",
    "        df = pd.read_csv(layout_path)\n",
    "        X = df[config[\"input_cols\"]].values\n",
    "        Y = df[config[\"output_pos_cols\"]].values\n",
    "        X_scaled = scaler_x.transform(X)\n",
    "        n = len(X_scaled)\n",
    "        preds_real = np.zeros_like(Y)\n",
    "        trues_real = Y.copy()\n",
    "\n",
    "        for i in tqdm(range(n), desc=f\"[{layout_index + 1}/{total_layouts}]\"):\n",
    "            seq = np.array([X_scaled[(i + j) % n] for j in range(config[\"seq_len\"])])\n",
    "            X_tensor = torch.tensor(seq.reshape(1, config[\"seq_len\"], -1), dtype=torch.float32).to(config[\"device\"])\n",
    "            X_tensor = X_tensor.permute(0, 2, 1)\n",
    "\n",
    "            with torch.no_grad():\n",
    "                pred, _ = model(X_tensor)\n",
    "                pred_scaled = pred.cpu().squeeze().numpy()\n",
    "                pred_real = scaler_y.inverse_transform(pred_scaled.reshape(1, -1))[0]\n",
    "\n",
    "            target_idx = (i + config[\"seq_len\"]) % n\n",
    "            preds_real[target_idx] += pred_real\n",
    "\n",
    "        # === Plot X/Z comparison ===\n",
    "        plt.figure(figsize=(12, 6))\n",
    "        plt.plot(trues_real[:, 0], trues_real[:, 2], label=\"True\", linewidth=2)\n",
    "        plt.plot(preds_real[:, 0], preds_real[:, 2], label=\"Predicted\", linewidth=2, linestyle=\"--\")\n",
    "        plt.title(f\"X vs Z: {layout_name}\")\n",
    "        plt.xlabel(\"X Coordinate\")\n",
    "        plt.ylabel(\"Z Coordinate\")\n",
    "        plt.axis(\"equal\")\n",
    "        plt.grid(True)\n",
    "        plt.legend()\n",
    "        plt.show()\n",
    "\n",
    "        # === Accuracy ===\n",
    "        print_feature_accuracy(preds_real, trues_real, scaler_y, config[\"output_pos_cols\"])\n",
    "\n",
    "        # === Spatial Error (X/Z only)\n",
    "        spatial_errors = np.linalg.norm(preds_real[:, [0, 2]] - trues_real[:, [0, 2]], axis=1)\n",
    "        mean_spatial_error = np.mean(spatial_errors)\n",
    "        max_spatial_error = np.max(spatial_errors)\n",
    "        print(f\"Mean X/Z spatial error: {mean_spatial_error:.2f}m, Max: {max_spatial_error:.2f}m\\n\")\n",
    "\n",
    "# === Non-Circular Tracks ===\n",
    "# def run_inference(data_folder, model_path):\n",
    "#     print(\"Loading model and scalers...\")\n",
    "#     model, scaler_x, scaler_y = load_model(model_path)\n",
    "#     model.eval()\n",
    "\n",
    "#     print(\"Loading unseen layouts from:\", data_folder)\n",
    "#     layout_files = sorted(glob(os.path.join(data_folder, \"*.csv\")))\n",
    "#     total_layouts = len(layout_files)\n",
    "#     print(f\"Found {total_layouts} layout files.\\n\")\n",
    "\n",
    "#     for layout_index, layout_path in enumerate(layout_files):\n",
    "#         layout_name = os.path.basename(layout_path)\n",
    "#         print(f\"[{layout_index + 1}/{total_layouts}] Predicting layout: {layout_name}\")\n",
    "\n",
    "#         # === Load layout data ===\n",
    "#         df = pd.read_csv(layout_path)\n",
    "#         X = df[config[\"input_cols\"]].values\n",
    "#         Y = df[config[\"output_cols\"]].values\n",
    "#         X_scaled = scaler_x.transform(X)\n",
    "#         n = len(X_scaled)\n",
    "#         seq_len = config[\"seq_len\"]\n",
    "\n",
    "#         preds_real = np.zeros_like(Y)\n",
    "#         trues_real = Y.copy()\n",
    "\n",
    "#         for i in tqdm(range(n), desc=f\"[{layout_index + 1}/{total_layouts}]\"):\n",
    "#             # Pad first `seq_len` frames with the first frame\n",
    "#             if i < seq_len:\n",
    "#                 pad = np.repeat(X_scaled[0:1], seq_len - i, axis=0)\n",
    "#                 seq = np.vstack([pad, X_scaled[0:i]])\n",
    "#             else:\n",
    "#                 seq = X_scaled[i - seq_len:i]\n",
    "\n",
    "#             X_tensor = torch.tensor(seq.reshape(1, seq_len, -1), dtype=torch.float32).to(config[\"device\"])\n",
    "\n",
    "#             with torch.no_grad():\n",
    "#                 pred_scaled = model(X_tensor).cpu().squeeze().numpy()\n",
    "#                 pred_real = scaler_y.inverse_transform(pred_scaled.reshape(1, -1))[0]\n",
    "\n",
    "#             preds_real[i] = pred_real\n",
    "\n",
    "#         # === Plotting ===\n",
    "#         plt.figure(figsize=(12, 6))\n",
    "#         plt.plot(trues_real[:, 0], trues_real[:, 2], label=\"True\", linewidth=2)\n",
    "#         plt.plot(preds_real[:, 0], preds_real[:, 2], label=\"Predicted\", linewidth=2, linestyle=\"--\")\n",
    "#         plt.title(f\"X vs Z Trajectory: {layout_name}\")\n",
    "#         plt.xlabel(\"X Coordinate\")\n",
    "#         plt.ylabel(\"Z Coordinate\")\n",
    "#         plt.axis(\"equal\")\n",
    "#         plt.grid(True)\n",
    "#         plt.legend()\n",
    "#         plt.show()\n",
    "\n",
    "#         # === Accuracy report ===\n",
    "#         print_feature_accuracy(preds_real, trues_real, scaler_y, config[\"output_cols\"])\n",
    "\n",
    "#         # === Spatial error metrics (just X/Z)\n",
    "#         spatial_errors = np.linalg.norm(preds_real[:, [0, 2]] - trues_real[:, [0, 2]], axis=1)\n",
    "#         mean_spatial_error = np.mean(spatial_errors)\n",
    "#         max_spatial_error = np.max(spatial_errors)\n",
    "#         print(f\"Mean X/Z spatial error: {mean_spatial_error:.2f}m, Max: {max_spatial_error:.2f}m\\n\")\n",
    "\n",
    "# === Run it ===\n",
    "run_inference(data_folder=\"./data/testing_layouts\", model_path=\"./models/testing_racing_proto_cerberus.pt\")\n"
   ]
  },
  {
   "cell_type": "code",
   "execution_count": null,
   "metadata": {},
   "outputs": [],
   "source": [
    "# def run_inference(data_folder, model_path):\n",
    "#     print(\"Loading model and scalers...\")\n",
    "#     model, scaler_x, scaler_y = load_model(model_path)\n",
    "#     model.eval()\n",
    "\n",
    "#     print(\"Loading unseen layouts from:\", data_folder)\n",
    "#     layout_files = sorted(glob(os.path.join(data_folder, \"*.csv\")))\n",
    "#     total_layouts = len(layout_files)\n",
    "#     print(f\"Found {total_layouts} layout files.\\n\")\n",
    "\n",
    "#     for layout_index, layout_path in enumerate(layout_files):\n",
    "#         layout_name = os.path.basename(layout_path)\n",
    "#         print(f\"[{layout_index + 1}/{total_layouts}] Predicting layout: {layout_name}\")\n",
    "\n",
    "#         # === Load layout data ===\n",
    "#         df = pd.read_csv(layout_path)\n",
    "#         X = df[config[\"input_cols\"]].values\n",
    "#         Y = df[config[\"output_cols\"]].values\n",
    "#         X_scaled = scaler_x.transform(X)\n",
    "#         n = len(X_scaled)\n",
    "#         seq_len = config[\"seq_len\"]\n",
    "\n",
    "#         preds_real = np.zeros_like(Y)\n",
    "#         trues_real = Y.copy()\n",
    "\n",
    "#         for i in tqdm(range(n), desc=f\"[{layout_index + 1}/{total_layouts}]\"):\n",
    "#             # Pad first `seq_len` frames with the first frame\n",
    "#             if i < seq_len:\n",
    "#                 pad = np.repeat(X_scaled[0:1], seq_len - i, axis=0)\n",
    "#                 seq = np.vstack([pad, X_scaled[0:i]])\n",
    "#             else:\n",
    "#                 seq = X_scaled[i - seq_len:i]\n",
    "\n",
    "#             X_tensor = torch.tensor(seq.reshape(1, seq_len, -1), dtype=torch.float32).to(config[\"device\"])\n",
    "\n",
    "#             with torch.no_grad():\n",
    "#                 pred_scaled = model(X_tensor).cpu().squeeze().numpy()\n",
    "#                 pred_real = scaler_y.inverse_transform(pred_scaled.reshape(1, -1))[0]\n",
    "\n",
    "#             preds_real[i] = pred_real\n",
    "\n",
    "#         # === Plotting ===\n",
    "#         plt.figure(figsize=(12, 6))\n",
    "#         plt.plot(trues_real[:, 0], trues_real[:, 2], label=\"True\", linewidth=2)\n",
    "#         plt.plot(preds_real[:, 0], preds_real[:, 2], label=\"Predicted\", linewidth=2, linestyle=\"--\")\n",
    "#         plt.title(f\"X vs Z Trajectory: {layout_name}\")\n",
    "#         plt.xlabel(\"X Coordinate\")\n",
    "#         plt.ylabel(\"Z Coordinate\")\n",
    "#         plt.axis(\"equal\")\n",
    "#         plt.grid(True)\n",
    "#         plt.legend()\n",
    "#         plt.show()\n",
    "\n",
    "#         # === Accuracy report ===\n",
    "#         print_feature_accuracy(preds_real, trues_real, scaler_y, config[\"output_cols\"])\n",
    "\n",
    "#         # === Spatial error metrics (just X/Z)\n",
    "#         spatial_errors = np.linalg.norm(preds_real[:, [0, 2]] - trues_real[:, [0, 2]], axis=1)\n",
    "#         mean_spatial_error = np.mean(spatial_errors)\n",
    "#         max_spatial_error = np.max(spatial_errors)\n",
    "#         print(f\"Mean X/Z spatial error: {mean_spatial_error:.2f}m, Max: {max_spatial_error:.2f}m\\n\")\n"
   ]
  }
 ],
 "metadata": {
  "kernelspec": {
   "display_name": "newracist",
   "language": "python",
   "name": "myenv"
  },
  "language_info": {
   "codemirror_mode": {
    "name": "ipython",
    "version": 3
   },
   "file_extension": ".py",
   "mimetype": "text/x-python",
   "name": "python",
   "nbconvert_exporter": "python",
   "pygments_lexer": "ipython3",
   "version": "3.12.6"
  }
 },
 "nbformat": 4,
 "nbformat_minor": 4
}
