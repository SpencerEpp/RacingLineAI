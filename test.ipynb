{
 "cells": [
  {
   "cell_type": "code",
   "execution_count": 1,
   "id": "9e2a045a",
   "metadata": {},
   "outputs": [],
   "source": [
    "import torch\n",
    "from inferenceRacingLineAI import get_racing_line\n",
    "from trainRacingLineAI import run_pipeline, run_inference"
   ]
  },
  {
   "cell_type": "code",
   "execution_count": 2,
   "id": "76e4cbcf",
   "metadata": {},
   "outputs": [],
   "source": [
    "# From Inference File (From Coords or Image)\n",
    "# get_racing_line(data_dir=\"./data/testing_layouts/\", data_type=\"coords\", model_path=\"./models/300_all_racing_line_lstm.pt\")"
   ]
  },
  {
   "cell_type": "code",
   "execution_count": 3,
   "id": "38317e43",
   "metadata": {},
   "outputs": [],
   "source": [
    "config = {\n",
    "    \"seed\": 42,\n",
    "    \"input_size\": 6,\n",
    "    \"output_size\": 3,\n",
    "    \"train_split\": 0.8,\n",
    "    \"num_epochs\": 150,\n",
    "    \"learning_rate\": 0.001,\n",
    "    \"batch_size\": 64,\n",
    "    \"hidden_size\": 128,\n",
    "    \"num_layers\": 4,\n",
    "    \"dropout\": 0.1,\n",
    "    \"seq_len\": 300,\n",
    "    \"patience\": 25,\n",
    "    \"scheduler_patience\": 15,\n",
    "    \"bidirectional\": True,\n",
    "    \"device\": \"cuda\" if torch.cuda.is_available() else \"cpu\",\n",
    "    \"train_data_path\": \"./data/extracted_track_data/\",\n",
    "    \"test_data_path\": \"./data/testing_layouts/\",\n",
    "    \"model_save_path\": \"./models/300_all_racing_line_lstm.pt\",\n",
    "    \"input_cols\": [\"left_x\",\"left_y\",\"left_z\",\"right_x\",\"right_y\",\"right_z\"],\n",
    "    \"output_cols\": [\"x\",\"y\",\"z\"]\n",
    "}"
   ]
  },
  {
   "cell_type": "code",
   "execution_count": null,
   "id": "b8ef49e2",
   "metadata": {},
   "outputs": [
    {
     "ename": "TypeError",
     "evalue": "run_pipeline() missing 1 required positional argument: 'config'",
     "output_type": "error",
     "traceback": [
      "\u001b[31m---------------------------------------------------------------------------\u001b[39m",
      "\u001b[31mTypeError\u001b[39m                                 Traceback (most recent call last)",
      "\u001b[36mCell\u001b[39m\u001b[36m \u001b[39m\u001b[32mIn[4]\u001b[39m\u001b[32m, line 1\u001b[39m\n\u001b[32m----> \u001b[39m\u001b[32m1\u001b[39m \u001b[43mrun_pipeline\u001b[49m\u001b[43m(\u001b[49m\u001b[43m)\u001b[49m\n",
      "\u001b[31mTypeError\u001b[39m: run_pipeline() missing 1 required positional argument: 'config'"
     ]
    }
   ],
   "source": [
    "run_pipeline(config)"
   ]
  }
 ],
 "metadata": {
  "kernelspec": {
   "display_name": ".venv",
   "language": "python",
   "name": "python3"
  },
  "language_info": {
   "codemirror_mode": {
    "name": "ipython",
    "version": 3
   },
   "file_extension": ".py",
   "mimetype": "text/x-python",
   "name": "python",
   "nbconvert_exporter": "python",
   "pygments_lexer": "ipython3",
   "version": "3.12.0"
  }
 },
 "nbformat": 4,
 "nbformat_minor": 5
}
