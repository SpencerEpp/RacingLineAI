{
 "cells": [
  {
   "cell_type": "code",
   "execution_count": null,
   "id": "9e2a045a",
   "metadata": {},
   "outputs": [],
   "source": [
    "import torch\n",
    "from inferenceRacingLineAI import get_racing_line\n",
    "from trainRacingLineAI import run_pipeline, run_inference"
   ]
  },
  {
   "cell_type": "code",
   "execution_count": null,
   "id": "38317e43",
   "metadata": {},
   "outputs": [],
   "source": [
    "config = {\n",
    "    # === Reproducibility ===\n",
    "    \"seed\": 42,\n",
    "\n",
    "    # === Model Input/Output ===\n",
    "    \"input_cols\": [\"left_x\",\"left_y\",\"left_z\",\"right_x\",\"right_y\",\"right_z\",\"distance\",\"heading_x\",\"heading_y\",\"heading_z\",\"curvature\"],\n",
    "    \"output_cols\": [\"x\", \"y\", \"z\"],\n",
    "    \"input_size\": 11,\n",
    "    \"output_size\": 3,\n",
    "\n",
    "    # === Model Architecture ===\n",
    "    \"hidden_size\": 128,\n",
    "    \"num_layers\": 4,\n",
    "    \"dropout\": 0.1,\n",
    "    \"seq_len\": 150,\n",
    "    \"bidirectional\": True,\n",
    "\n",
    "    # === Training Setup ===\n",
    "    \"num_epochs\": 1, #150,\n",
    "    \"learning_rate\": 0.001,\n",
    "    \"batch_size\": 1024, # fits perfectly into 8Gb of VRAM (7/8Gb)\n",
    "    \"patience\": 25,\n",
    "    \"scheduler_patience\": 15,\n",
    "\n",
    "    # === Data Splitting ===\n",
    "    \"train_split\": 0.8,\n",
    "\n",
    "    # === File Paths ===\n",
    "    \"train_data_path\": \"./data/extracted_track_data/\",  # All tracks (used for both training and validation)\n",
    "    \"test_data_path\": \"./data/testing_layouts/\",        # New/unseen tracks for inference only\n",
    "    \"model_save_path\": \"./models/faster_hopefully.pt\",\n",
    "\n",
    "    # === Hardware ===\n",
    "    \"device\": \"cuda\" if torch.cuda.is_available() else \"cpu\"\n",
    "}"
   ]
  },
  {
   "cell_type": "code",
   "execution_count": null,
   "id": "b8ef49e2",
   "metadata": {},
   "outputs": [],
   "source": [
    "# run_pipeline(config)"
   ]
  },
  {
   "cell_type": "code",
   "execution_count": null,
   "id": "76e4cbcf",
   "metadata": {},
   "outputs": [],
   "source": [
    "# From Inference File (From Coords or Image)\n",
    "get_racing_line(data_dir=config[\"test_data_path\"], data_type=\"coords\", model_path=config[\"model_save_path\"])"
   ]
  },
  {
   "cell_type": "code",
   "execution_count": null,
   "id": "7af32379",
   "metadata": {},
   "outputs": [],
   "source": [
    "run_inference(path=config['model_save_path'])"
   ]
  }
 ],
 "metadata": {
  "kernelspec": {
   "display_name": ".venv",
   "language": "python",
   "name": "python3"
  },
  "language_info": {
   "codemirror_mode": {
    "name": "ipython",
    "version": 3
   },
   "file_extension": ".py",
   "mimetype": "text/x-python",
   "name": "python",
   "nbconvert_exporter": "python",
   "pygments_lexer": "ipython3",
   "version": "3.12.0"
  }
 },
 "nbformat": 4,
 "nbformat_minor": 5
}
