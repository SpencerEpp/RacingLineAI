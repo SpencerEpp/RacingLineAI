{
 "cells": [
  {
   "cell_type": "code",
   "execution_count": null,
   "metadata": {},
   "outputs": [],
   "source": [
    "# import our data creation tool\n",
    "# idk how to import a function from anotheripynb\n",
    "from data_exploration/create_data.ipynb import process_all_tracks\n",
    "\n",
    "TRACKS_ROOT = \"./data/assetto_corsa_tracks\"\n",
    "OUTPUT_ROOT = \"./data/extracted_track_data\"\n",
    "process_all_tracks(TRACKS_ROOT, OUTPUT_ROOT)"
   ]
  }
 ],
 "metadata": {
  "kernelspec": {
   "display_name": "venv",
   "language": "python",
   "name": "python3"
  },
  "language_info": {
   "name": "python",
   "version": "3.13.1"
  }
 },
 "nbformat": 4,
 "nbformat_minor": 2
}
