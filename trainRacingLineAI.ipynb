{
 "cells": [
  {
   "cell_type": "code",
   "execution_count": null,
   "metadata": {},
   "outputs": [],
   "source": [
    "# If we decide to keep create_data as a ipynb we can use this\n",
    "# import nbimporter\n",
    "# from create_data import process_all_tracks\n",
    "\n",
    "# Or if we remove all the image plotting we can do this\n",
    "# %run ./data_exploration/create_data.ipynb\n",
    "\n",
    "# Use the below if we convert create_data to a .py \n",
    "# from data_exploration.create_data import process_all_tracks\n",
    "\n",
    "TRACKS_ROOT = \"./data/assetto_corsa_tracks\"\n",
    "OUTPUT_ROOT = \"./data/extracted_track_data\"\n",
    "process_all_tracks(TRACKS_ROOT, OUTPUT_ROOT)"
   ]
  }
 ],
 "metadata": {
  "kernelspec": {
   "display_name": "venv",
   "language": "python",
   "name": "python3"
  },
  "language_info": {
   "name": "python",
   "version": "3.13.1"
  }
 },
 "nbformat": 4,
 "nbformat_minor": 2
}
