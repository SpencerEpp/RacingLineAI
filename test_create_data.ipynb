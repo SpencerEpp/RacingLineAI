{
 "cells": [
  {
   "cell_type": "code",
   "execution_count": null,
   "id": "0b060218",
   "metadata": {},
   "outputs": [],
   "source": [
    "# === Configuration ===\n",
    "from create_data import process_all_tracks\n",
    "\n",
    "TRACKS_ROOT = \"./data/assetto_corsa_tracks\"\n",
    "OUTPUT_ROOT = \"./data/extracted_track_data\""
   ]
  },
  {
   "cell_type": "code",
   "execution_count": null,
   "id": "9ed52b49",
   "metadata": {},
   "outputs": [],
   "source": [
    "# === Create Data From Game Files ===\n",
    "process_all_tracks(TRACKS_ROOT, OUTPUT_ROOT) # Need to fix scaling and roll"
   ]
  },
  {
   "cell_type": "code",
   "execution_count": null,
   "id": "99ed0c19",
   "metadata": {},
   "outputs": [],
   "source": [
    "# Testing code to ensure model receives proper data\n",
    "# Can remove this later or ideally move to its own file in data_exploration \n",
    "import os\n",
    "import pandas as pd\n",
    "import matplotlib.pyplot as plt\n",
    "\n",
    "processed_data_dir = \"./data/extracted_track_data\"\n",
    "csv_files = [f for f in os.listdir(processed_data_dir) if f.endswith(\".csv\")]\n",
    "\n",
    "for file in sorted(csv_files):\n",
    "    file_path = os.path.join(processed_data_dir, file)\n",
    "    df = pd.read_csv(file_path)\n",
    "    num_points = 100 #len(df)\n",
    "\n",
    "    plt.figure(figsize=(10, 10), dpi=300)\n",
    "    plt.plot(df[\"left_x\"][:num_points], df[\"left_z\"][:num_points], \"b-\", label=\"Left Edge\", linewidth=0.5, markersize=3)\n",
    "    plt.plot(df[\"right_x\"][:num_points], df[\"right_z\"][:num_points], \"r-\", label=\"Right Edge\", linewidth=0.5, markersize=3)\n",
    "    plt.plot(df[\"x\"][:num_points], df[\"z\"][:num_points], \"k-\", label=\"Ideal Line\", linewidth=0.5, markersize=3)\n",
    "\n",
    "    plt.title(f\"Track Slice: {file}\", fontsize=8)\n",
    "    plt.xlabel(\"X\")\n",
    "    plt.ylabel(\"Z\")\n",
    "    plt.legend(fontsize=6)\n",
    "    plt.axis(\"equal\")\n",
    "    plt.grid(True, linewidth=0.25)\n",
    "    plt.tight_layout()\n",
    "    plt.show()"
   ]
  }
 ],
 "metadata": {
  "kernelspec": {
   "display_name": "venv",
   "language": "python",
   "name": "python3"
  },
  "language_info": {
   "codemirror_mode": {
    "name": "ipython",
    "version": 3
   },
   "file_extension": ".py",
   "mimetype": "text/x-python",
   "name": "python",
   "nbconvert_exporter": "python",
   "pygments_lexer": "ipython3",
   "version": "3.13.1"
  }
 },
 "nbformat": 4,
 "nbformat_minor": 5
}
