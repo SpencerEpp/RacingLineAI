{
 "cells": [
  {
   "cell_type": "code",
   "execution_count": 3,
   "id": "1d17c02d-3710-4511-9369-8ea9a8d2b113",
   "metadata": {},
   "outputs": [],
   "source": [
    "import torch as t\n",
    "import numpy as np\n",
    "import pandas as pd"
   ]
  },
  {
   "cell_type": "code",
   "execution_count": 8,
   "id": "a3161204-568c-4dbf-874a-0e9389319c01",
   "metadata": {},
   "outputs": [],
   "source": [
    "class Cerberus (t.nn.Module):\n",
    "    def __init__(self, config):\n",
    "        super().__init__()\n",
    "\n",
    "        self.encoder = t.nn.Sequential(\n",
    "            t.nn.Conv1d(config[\"input\"], config[\"hidden1\"], config[\"kern_size1\"], config[\"padding1\"], config[\"dilation1\"]),\n",
    "            t.nn.ReLU(),\n",
    "            t.nn.Conv1d(config[\"hidden1\"], config[\"hidden1\"], config[\"kern_size1\"], config[\"padding2\"], config[\"dilation2\"]),\n",
    "        )\n",
    "\n",
    "        #x, y, z\n",
    "        self.position_head = t.nn.sequential(\n",
    "            t.nn.Linear(config[\"hidden1\"], config[\"pos_head_sz\"]),\n",
    "            t.nn.ReLU(),\n",
    "            t.nn.Linear(config[\"pos_head_sz\"], 3)\n",
    "        )\n",
    "\n",
    "        #speed, gas, brake, side-left, side-right\n",
    "        self.control_head = t.nn.sequential(\n",
    "            t.nn.Linear(config[\"hidden1\"], config[\"cont_head_sz\"]),\n",
    "            t.nn.ReLU(),\n",
    "            t.nn.Linear(config[\"cont_head_sz\"], 5)\n",
    "        )\n",
    "\n",
    "    def forward(self, x):\n",
    "        encoded = self.encoder(x)\n",
    "        encoded = encoded[:, :, -1]\n",
    "\n",
    "        position = self.pos_head(encoded)\n",
    "        control_in = t.cat([encoded, position], dim=1)\n",
    "        control = self.control_head(control_in)\n",
    "\n",
    "        \n",
    "        return position, control"
   ]
  },
  {
   "cell_type": "code",
   "execution_count": 9,
   "id": "194ff5cb-07bc-4892-a8db-472a1b81879b",
   "metadata": {},
   "outputs": [],
   "source": [
    "class PositionLoss(t.nn.Module):\n",
    "    def __init__(self, weight=1.0):\n",
    "        super(PositionLoss, self).__init__()\n",
    "        self.mse_loss = t.nn.MSELoss()\n",
    "\n",
    "    def forward(self, predicted, target):\n",
    "        loss = self.mse_loss(predicted, target)\n",
    "        return loss\n",
    "\n",
    "#we can add penalties to encourage smoother and more realistic driving here\n",
    "class ControlLoss(t.nn.Module):\n",
    "    def __init__(self, weight=1.0):\n",
    "        super(ControlLoss, self).__init__()\n",
    "        self.mse_loss(predicted, target)\n",
    "        return loss"
   ]
  },
  {
   "cell_type": "code",
   "execution_count": null,
   "id": "3040dc40-5ad7-45ac-88ab-e7ddb0437515",
   "metadata": {},
   "outputs": [],
   "source": []
  }
 ],
 "metadata": {
  "kernelspec": {
   "display_name": "racinglineai",
   "language": "python",
   "name": "racinglineai"
  },
  "language_info": {
   "codemirror_mode": {
    "name": "ipython",
    "version": 3
   },
   "file_extension": ".py",
   "mimetype": "text/x-python",
   "name": "python",
   "nbconvert_exporter": "python",
   "pygments_lexer": "ipython3",
   "version": "3.12.6"
  }
 },
 "nbformat": 4,
 "nbformat_minor": 5
}
