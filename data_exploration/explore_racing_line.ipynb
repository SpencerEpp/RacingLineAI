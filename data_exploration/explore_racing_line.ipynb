{
 "cells": [
  {
   "cell_type": "code",
   "execution_count": null,
   "metadata": {},
   "outputs": [],
   "source": [
    "import struct\n",
    "import pandas as pd\n",
    "import numpy as np\n",
    "from PIL import Image\n",
    "import matplotlib.pyplot as plt"
   ]
  },
  {
   "cell_type": "code",
   "execution_count": null,
   "metadata": {},
   "outputs": [],
   "source": [
    "def parse_ideal_line(path):\n",
    "    with open(path, \"rb\") as f:\n",
    "        version = struct.unpack(\"<i\", f.read(4))[0]\n",
    "        if version != 7:\n",
    "            raise ValueError(f\"Unsupported spline version: {version}\")\n",
    "\n",
    "        point_count = struct.unpack(\"<i\", f.read(4))[0]\n",
    "        lap_time = struct.unpack(\"<i\", f.read(4))[0]\n",
    "        sample_count = struct.unpack(\"<i\", f.read(4))[0]\n",
    "\n",
    "        # AiPoint: position (vec3), length, id\n",
    "        points = []\n",
    "        for _ in range(point_count):\n",
    "            x, y, z = struct.unpack(\"<fff\", f.read(12))\n",
    "            length = struct.unpack(\"<f\", f.read(4))[0]\n",
    "            point_id = struct.unpack(\"<i\", f.read(4))[0]\n",
    "            points.append([x, y, z, length, point_id])\n",
    "\n",
    "        extra_count = struct.unpack(\"<i\", f.read(4))[0]\n",
    "        if extra_count != point_count:\n",
    "            raise ValueError(\"Mismatch between point count and extra data count.\")\n",
    "\n",
    "        # AiPointExtra: 18 floats = 72 bytes\n",
    "        extras = []\n",
    "        for _ in range(extra_count):\n",
    "            data = struct.unpack(\"<\" + \"f\" * 18, f.read(72))\n",
    "            extras.append(list(data))\n",
    "\n",
    "    columns = [\n",
    "        \"x\", \"y\", \"z\", \"length\", \"id\",\n",
    "        \"speed\", \"gas\", \"brake\", \"obsolete_lat_g\", \"radius\",\n",
    "        \"side_left\", \"side_right\", \"camber\", \"direction\",\n",
    "        \"normal_x\", \"normal_y\", \"normal_z\",\n",
    "        \"extra_length\",\n",
    "        \"forward_x\", \"forward_y\", \"forward_z\",\n",
    "        \"tag\", \"grade\"\n",
    "    ]\n",
    "\n",
    "    df = pd.DataFrame([p + e for p, e in zip(points, extras)], columns=columns)\n",
    "    return df"
   ]
  },
  {
   "cell_type": "code",
   "execution_count": null,
   "metadata": {},
   "outputs": [],
   "source": [
    "def plot_racing_line_with_map(\n",
    "    df,\n",
    "    map_image_path,\n",
    "    offset=(0, 0),\n",
    "    scale=1.0,\n",
    "    color_by=\"speed\",\n",
    "    title=\"Racing Line + Map\"\n",
    "):\n",
    "    # Load map image\n",
    "    img = Image.open(map_image_path)\n",
    "    w, h = img.size\n",
    "\n",
    "    # Create plot\n",
    "    fig, ax = plt.subplots(figsize=(16, 16), dpi=100)\n",
    "\n",
    "    # Display image using scaled extent\n",
    "    extent = [\n",
    "        offset[0], offset[0] + w * scale,\n",
    "        offset[1] + h * scale, offset[1]\n",
    "    ]\n",
    "    ax.imshow(img, extent=extent, origin=\"upper\", alpha=0.6)\n",
    "\n",
    "    # Plot racing line\n",
    "    x = df[\"x\"]\n",
    "    z = df[\"z\"]\n",
    "\n",
    "    if color_by in df.columns:\n",
    "        sc = ax.scatter(x, z, c=df[color_by], cmap=\"viridis\", s=0.25)\n",
    "        cbar = plt.colorbar(sc, ax=ax)\n",
    "        cbar.set_label(color_by)\n",
    "    else:\n",
    "        ax.plot(x, z, lw=1)\n",
    "\n",
    "    ax.set_title(f\"Racing Line: {title}\")\n",
    "    ax.set_xlabel(\"x\")\n",
    "    ax.set_ylabel(\"z\")\n",
    "    ax.set_aspect(\"equal\")\n",
    "    plt.grid(True)\n",
    "    plt.show()\n"
   ]
  },
  {
   "cell_type": "code",
   "execution_count": null,
   "metadata": {},
   "outputs": [],
   "source": [
    "map = \"./data/assetto_corsa_tracks/ks_nurburgring/\"\n",
    "versions = {\"gp_a\":(\"layout_gp_a/data/ideal_line.ai\", \"layout_gp_a/map.png\"), \"gp_b\":(\"layout_gp_b/data/ideal_line.ai\", \"layout_gp_b/map.png\"),\n",
    "            \"sprint_a\":(\"layout_sprint_a/data/ideal_line.ai\", \"layout_sprint_a/map.png\"), \"sprint_b\": (\"layout_sprint_b/data/ideal_line.ai\", \"layout_sprint_b/map.png\")}\n",
    "\n",
    "name = \"sprint_a\" # gp_a, gp_b, sprint_a, sprint_b\n",
    "data_path = map + versions[name][0] \n",
    "image_path = map + versions[name][1]\n",
    "racing_line = parse_ideal_line(data_path)"
   ]
  },
  {
   "cell_type": "code",
   "execution_count": null,
   "metadata": {},
   "outputs": [],
   "source": [
    "racing_line.info()\n",
    "racing_line.head()"
   ]
  },
  {
   "cell_type": "code",
   "execution_count": null,
   "metadata": {},
   "outputs": [],
   "source": [
    "# Offsets might not align perfectly however its close enough to visually see this code is producing what we desire\n",
    "# GP Plot Vars \n",
    "# scl = 1.2\n",
    "# off = (-422, -1035)\n",
    "\n",
    "# Sprint Plot Vars \n",
    "scl = 1\n",
    "off = (-422, -1035)\n",
    "\n",
    "# Plot \n",
    "plot_racing_line_with_map(racing_line, map_image_path=image_path, color_by=\"speed\", title=\"Racing Line: ks_nurburgring\", offset=off, scale=scl)\n",
    "plot_racing_line_with_map(racing_line, map_image_path=image_path, color_by=\"side_left\", title=\"Racing Line: ks_nurburgring\", offset=off, scale=scl)\n",
    "plot_racing_line_with_map(racing_line, map_image_path=image_path, color_by=\"radius\", title=\"Racing Line: ks_nurburgring\", offset=off, scale=scl)\n",
    "plot_racing_line_with_map(racing_line, map_image_path=image_path, color_by=\"direction\", title=\"Racing Line: ks_nurburgring\", offset=off, scale=scl)"
   ]
  }
 ],
 "metadata": {
  "kernelspec": {
   "display_name": "venv",
   "language": "python",
   "name": "python3"
  },
  "language_info": {
   "codemirror_mode": {
    "name": "ipython",
    "version": 3
   },
   "file_extension": ".py",
   "mimetype": "text/x-python",
   "name": "python",
   "nbconvert_exporter": "python",
   "pygments_lexer": "ipython3",
   "version": "3.13.1"
  }
 },
 "nbformat": 4,
 "nbformat_minor": 2
}
