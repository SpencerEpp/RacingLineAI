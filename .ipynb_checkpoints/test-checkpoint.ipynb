{
 "cells": [
  {
   "cell_type": "code",
   "execution_count": 1,
   "id": "9e2a045a",
   "metadata": {},
   "outputs": [],
   "source": [
    "import torch\n",
    "from inferenceRacingLineAI import get_racing_line\n",
    "from trainRacingLineAI import run_pipeline, run_inference"
   ]
  },
  {
   "cell_type": "code",
   "execution_count": 2,
   "id": "76e4cbcf",
   "metadata": {},
   "outputs": [],
   "source": [
    "# From Inference File (From Coords or Image)\n",
    "# get_racing_line(data_dir=\"./data/testing_layouts/\", data_type=\"coords\", model_path=\"./models/300_all_racing_line_lstm.pt\")"
   ]
  },
  {
   "cell_type": "code",
   "execution_count": 3,
   "id": "38317e43",
   "metadata": {},
   "outputs": [],
   "source": [
    "config = {\n",
    "    \"seed\": 42,\n",
    "    \"input_size\": 6,\n",
    "    #model params\n",
    "    \"hidden1\":128,\n",
    "    \"kern_size1\":3,\n",
    "    \"kern_size2\":3,\n",
    "    \"padding1\": 2,\n",
    "    \"padding2\": 4,\n",
    "    \"dilation1\": 2,\n",
    "    \"dilation2\": 4,\n",
    "    \"pos_head_sz\": 128,\n",
    "    \"cont_head_sz\": 128,\n",
    "    #administrative stuff\n",
    "    \"device\":\"cuda\",\n",
    "    \"input_cols\": [\"left_x\",\"left_y\",\"left_z\",\"right_x\",\"right_y\",\"right_z\"],\n",
    "    \"output_pos_cols\": [\"x\",\"y\",\"z\"],\n",
    "    \"output_cont_cols\": [\"speed\", \"gas\", \"brake\", \"side_left\", \"side_right\"],\n",
    "    \"patience\": 10,\n",
    "    \"train_data_path\": \"./data/extracted_track_data/\",\n",
    "    #\"train_data_path\": \"./data/testing_layouts/\",\n",
    "    \"test_data_path\": \"./data/testing_layouts/\",\n",
    "    \"model_save_path\": \"./models/testing_racing_proto_neo_cerberus.pt\",\n",
    "    \"pin_memory\": True,\n",
    "    #Training info,\n",
    "    \"num_epochs\": 10,\n",
    "    \"long_epochs\": 4,\n",
    "    \"medium_epochs\": 3,\n",
    "    \"train_split\": 0.8,\n",
    "    \"learning_rate\": 0.001,\n",
    "    \"batch_size\": 128,\n",
    "    \"long_seq_len\": 600,\n",
    "    \"med_seq_len\": 300,\n",
    "    \"short_seq_len\": 150\n",
    "}"
   ]
  },
  {
   "cell_type": "code",
   "execution_count": null,
   "id": "b8ef49e2",
   "metadata": {},
   "outputs": [
    {
     "name": "stdout",
     "output_type": "stream",
     "text": [
      "Preparing dataset...\n",
      "Total sequences loaded: 376433\n",
      "Initializing model...\n",
      "Training started...\n"
     ]
    },
    {
     "data": {
      "application/vnd.jupyter.widget-view+json": {
       "model_id": "0316f8923e1a4b46824005238464a25d",
       "version_major": 2,
       "version_minor": 0
      },
      "text/plain": [
       "Epochs:   0%|          | 0/150 [00:00<?, ?it/s]"
      ]
     },
     "metadata": {},
     "output_type": "display_data"
    },
    {
     "data": {
      "application/vnd.jupyter.widget-view+json": {
       "model_id": "24b6519f05c14c23a92344577a55b21a",
       "version_major": 2,
       "version_minor": 0
      },
      "text/plain": [
       "Epoch 1/150:   0%|          | 0/2353 [00:00<?, ?it/s]"
      ]
     },
     "metadata": {},
     "output_type": "display_data"
    },
    {
     "data": {
      "application/vnd.jupyter.widget-view+json": {
       "model_id": "4e25356a633a49b8a387fa1e41bf83de",
       "version_major": 2,
       "version_minor": 0
      },
      "text/plain": [
       "Epoch 2/150:   0%|          | 0/2353 [00:00<?, ?it/s]"
      ]
     },
     "metadata": {},
     "output_type": "display_data"
    }
   ],
   "source": [
    "run_pipeline(config)"
   ]
  },
  {
   "cell_type": "code",
   "execution_count": null,
   "id": "41100e90-7288-49e9-a1b5-685d6a6f390b",
   "metadata": {},
   "outputs": [],
   "source": [
    "get_racing_line(config[\"test_data_path\"], data_type=\"coords\", model_path=config[\"model_save_path\"], seq_len=150)"
   ]
  },
  {
   "cell_type": "code",
   "execution_count": null,
   "id": "06784feb-9eaf-4a1c-9ce7-c95694b7278f",
   "metadata": {},
   "outputs": [],
   "source": []
  }
 ],
 "metadata": {
  "kernelspec": {
   "display_name": "Python 3 (ipykernel)",
   "language": "python",
   "name": "python3"
  },
  "language_info": {
   "codemirror_mode": {
    "name": "ipython",
    "version": 3
   },
   "file_extension": ".py",
   "mimetype": "text/x-python",
   "name": "python",
   "nbconvert_exporter": "python",
   "pygments_lexer": "ipython3",
   "version": "3.12.6"
  }
 },
 "nbformat": 4,
 "nbformat_minor": 5
}
